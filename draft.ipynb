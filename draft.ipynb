{
 "cells": [
  {
   "cell_type": "code",
   "execution_count": 32,
   "id": "655bd0b9",
   "metadata": {},
   "outputs": [],
   "source": [
    "import glob\n",
    "import numpy as np\n",
    "import scipy.io as so\n",
    "import os\n",
    "import cv2 as cv\n",
    "import matplotlib.pyplot as plt\n",
    "\n",
    "import torch\n",
    "import torch.nn as nn\n",
    "import torchvision\n",
    "import torch.optim as optim\n",
    "from torch.optim import lr_scheduler\n",
    "from torchvision import datasets, transforms\n",
    "from torchvision.transforms import ToTensor\n",
    "\n",
    "from sklearn.model_selection import train_test_split\n",
    "\n",
    "from utils.model import WideNet, GrayNet\n",
    "from utils.data import ImageDataset\n",
    "from utils.signal import standardize_image, read_mat_file, add_noise, signal_to_gray_image, signal_to_scalorgram_image"
   ]
  },
  {
   "cell_type": "code",
   "execution_count": 2,
   "id": "8c2e9960",
   "metadata": {},
   "outputs": [],
   "source": [
    "datapath = './data/transformed_images/hp_0/noise_0_db/'"
   ]
  },
  {
   "cell_type": "code",
   "execution_count": 15,
   "id": "a2d28561",
   "metadata": {},
   "outputs": [
    {
     "name": "stdout",
     "output_type": "stream",
     "text": [
      "['Outer7', 'Ball21', 'Outer21', 'Inner7', 'Inner21', 'Inner14', 'Outer14', 'Ball14', 'NoFault']\n"
     ]
    }
   ],
   "source": [
    "subfolder = os.listdir(datapath)\n",
    "print(subfolder)"
   ]
  },
  {
   "cell_type": "code",
   "execution_count": 16,
   "id": "b270d48e",
   "metadata": {},
   "outputs": [],
   "source": [
    "label_class_dict = {'NoFault': 0, \n",
    "                    'Inner7': 1, 'Inner14': 2, 'Inner21': 3, \n",
    "                    'Ball7': 4, 'Ball14': 5, 'Ball21': 6,\n",
    "                    'Outer7': 7, 'Outer14': 8, 'Outer21': 9}"
   ]
  },
  {
   "cell_type": "code",
   "execution_count": 17,
   "id": "1b4fcadf",
   "metadata": {},
   "outputs": [],
   "source": [
    "train_list, test_list = [], []"
   ]
  },
  {
   "cell_type": "code",
   "execution_count": 18,
   "id": "ca79f13d",
   "metadata": {},
   "outputs": [],
   "source": [
    "for fname in subfolder:\n",
    "    list_all_file = glob.glob(datapath + fname + '/gray/*.png')\n",
    "    _train, _test = train_test_split(list_all_file, test_size=0.2)\n",
    "    train_list.extend(_train)\n",
    "    test_list.extend(_test)"
   ]
  },
  {
   "cell_type": "code",
   "execution_count": 19,
   "id": "9771df32",
   "metadata": {},
   "outputs": [
    {
     "name": "stdout",
     "output_type": "stream",
     "text": [
      "2160 540\n"
     ]
    }
   ],
   "source": [
    "print(len(train_list), len(test_list))"
   ]
  },
  {
   "cell_type": "code",
   "execution_count": 27,
   "id": "7efb57f9",
   "metadata": {},
   "outputs": [],
   "source": [
    "dataset = ImageDataset(train_list, label_class_dict, ToTensor())"
   ]
  },
  {
   "cell_type": "code",
   "execution_count": 28,
   "id": "a3ae7fb3",
   "metadata": {},
   "outputs": [],
   "source": [
    "dataloader = torch.utils.data.DataLoader(dataset, batch_size=64, shuffle=True)"
   ]
  },
  {
   "cell_type": "code",
   "execution_count": 29,
   "id": "31b63a46",
   "metadata": {},
   "outputs": [],
   "source": [
    "train_features, train_labels = next(iter(dataloader))"
   ]
  },
  {
   "cell_type": "code",
   "execution_count": 33,
   "id": "bdab4d65",
   "metadata": {},
   "outputs": [],
   "source": [
    "model = GrayNet(10)"
   ]
  },
  {
   "cell_type": "code",
   "execution_count": 35,
   "id": "d2969849",
   "metadata": {},
   "outputs": [
    {
     "data": {
      "text/plain": [
       "GrayNet(\n",
       "  (gray): Sequential(\n",
       "    (0): Conv2d(1, 8, kernel_size=(3, 3), stride=(1, 1), padding=(1, 1))\n",
       "    (1): ReLU()\n",
       "    (2): BatchNorm2d(8, eps=1e-05, momentum=0.1, affine=True, track_running_stats=True)\n",
       "    (3): MaxPool2d(kernel_size=2, stride=2, padding=0, dilation=1, ceil_mode=False)\n",
       "    (4): Conv2d(8, 16, kernel_size=(3, 3), stride=(1, 1), padding=(1, 1))\n",
       "    (5): ReLU()\n",
       "    (6): BatchNorm2d(16, eps=1e-05, momentum=0.1, affine=True, track_running_stats=True)\n",
       "    (7): MaxPool2d(kernel_size=2, stride=2, padding=0, dilation=1, ceil_mode=False)\n",
       "  )\n",
       "  (full): Sequential(\n",
       "    (0): Linear(in_features=784, out_features=1024, bias=True)\n",
       "    (1): ReLU()\n",
       "    (2): BatchNorm1d(1024, eps=1e-05, momentum=0.1, affine=True, track_running_stats=True)\n",
       "    (3): Linear(in_features=1024, out_features=512, bias=True)\n",
       "    (4): ReLU()\n",
       "    (5): BatchNorm1d(512, eps=1e-05, momentum=0.1, affine=True, track_running_stats=True)\n",
       "    (6): Linear(in_features=512, out_features=10, bias=True)\n",
       "  )\n",
       ")"
      ]
     },
     "execution_count": 35,
     "metadata": {},
     "output_type": "execute_result"
    }
   ],
   "source": []
  }
 ],
 "metadata": {
  "kernelspec": {
   "display_name": "Python 3 (ipykernel)",
   "language": "python",
   "name": "python3"
  },
  "language_info": {
   "codemirror_mode": {
    "name": "ipython",
    "version": 3
   },
   "file_extension": ".py",
   "mimetype": "text/x-python",
   "name": "python",
   "nbconvert_exporter": "python",
   "pygments_lexer": "ipython3",
   "version": "3.8.10"
  },
  "varInspector": {
   "cols": {
    "lenName": 16,
    "lenType": 16,
    "lenVar": 40
   },
   "kernels_config": {
    "python": {
     "delete_cmd_postfix": "",
     "delete_cmd_prefix": "del ",
     "library": "var_list.py",
     "varRefreshCmd": "print(var_dic_list())"
    },
    "r": {
     "delete_cmd_postfix": ") ",
     "delete_cmd_prefix": "rm(",
     "library": "var_list.r",
     "varRefreshCmd": "cat(var_dic_list()) "
    }
   },
   "types_to_exclude": [
    "module",
    "function",
    "builtin_function_or_method",
    "instance",
    "_Feature"
   ],
   "window_display": false
  }
 },
 "nbformat": 4,
 "nbformat_minor": 5
}
